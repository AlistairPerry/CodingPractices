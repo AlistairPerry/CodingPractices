{
 "cells": [
  {
   "cell_type": "markdown",
   "id": "7c48d6df",
   "metadata": {},
   "source": [
    "## Question - Classic FizzBuzz"
   ]
  },
  {
   "cell_type": "markdown",
   "id": "22e384a2",
   "metadata": {},
   "source": [
    "Credit: https://www.w3resource.com/python-exercises/python-conditional-exercise-10.php\n",
    "\n",
    "**Write a Python program which iterates the integers from 1 to given input range, following the below conditions:**\n",
    "\n",
    "\n",
    "1) For multiples of three print \"Fizz\" instead of the number and for the multiples of five print \"Buzz\"\n",
    "\n",
    "2) For numbers which are multiples of both three and five print \"FizzBuzz\"\n",
    "\n",
    "3) Lastly, print integer numbers which do not satisfy any of the above conditions"
   ]
  },
  {
   "cell_type": "code",
   "execution_count": 3,
   "id": "33c3df87",
   "metadata": {},
   "outputs": [],
   "source": [
    "def FizzBuzz(maxnum):\n",
    "    \n",
    "    \n",
    "    for num in range(1, maxnum+1):\n",
    "        \n",
    "        if (num % 3 == 0) and (num % 5 == 0):\n",
    "            \n",
    "            print(\"Fizzbuzz\")\n",
    "            \n",
    "        elif num % 3 == 0:\n",
    "            \n",
    "            print(\"Fizz\")\n",
    "            \n",
    "        elif num % 5 == 0:\n",
    "            \n",
    "            print(\"Buzz\")\n",
    "            \n",
    "        else:\n",
    "            \n",
    "            print(num)"
   ]
  },
  {
   "cell_type": "code",
   "execution_count": 4,
   "id": "9139aaed",
   "metadata": {},
   "outputs": [
    {
     "name": "stdout",
     "output_type": "stream",
     "text": [
      "1\n",
      "2\n",
      "Fizz\n",
      "4\n",
      "Buzz\n",
      "Fizz\n",
      "7\n",
      "8\n",
      "Fizz\n",
      "Buzz\n",
      "11\n",
      "Fizz\n",
      "13\n",
      "14\n",
      "Fizzbuzz\n",
      "16\n",
      "17\n",
      "Fizz\n",
      "19\n",
      "Buzz\n",
      "Fizz\n",
      "22\n",
      "23\n",
      "Fizz\n",
      "Buzz\n",
      "26\n",
      "Fizz\n",
      "28\n",
      "29\n",
      "Fizzbuzz\n",
      "31\n",
      "32\n",
      "Fizz\n",
      "34\n",
      "Buzz\n",
      "Fizz\n",
      "37\n",
      "38\n",
      "Fizz\n",
      "Buzz\n",
      "41\n",
      "Fizz\n",
      "43\n",
      "44\n",
      "Fizzbuzz\n",
      "46\n",
      "47\n",
      "Fizz\n",
      "49\n",
      "Buzz\n",
      "Fizz\n",
      "52\n",
      "53\n",
      "Fizz\n",
      "Buzz\n",
      "56\n",
      "Fizz\n",
      "58\n",
      "59\n",
      "Fizzbuzz\n",
      "61\n",
      "62\n",
      "Fizz\n",
      "64\n",
      "Buzz\n",
      "Fizz\n",
      "67\n",
      "68\n",
      "Fizz\n",
      "Buzz\n",
      "71\n",
      "Fizz\n",
      "73\n",
      "74\n",
      "Fizzbuzz\n",
      "76\n",
      "77\n",
      "Fizz\n",
      "79\n",
      "Buzz\n",
      "Fizz\n",
      "82\n",
      "83\n",
      "Fizz\n",
      "Buzz\n",
      "86\n"
     ]
    }
   ],
   "source": [
    "FizzBuzz(86)"
   ]
  },
  {
   "cell_type": "markdown",
   "id": "b0626fff",
   "metadata": {},
   "source": [
    "## Question - Finding non-repeating character in a string"
   ]
  },
  {
   "cell_type": "markdown",
   "id": "72c03627",
   "metadata": {},
   "source": [
    "Credit: https://appsilon.com/data-science-coding-interview-questions/#question-3"
   ]
  },
  {
   "cell_type": "markdown",
   "id": "f68846fb",
   "metadata": {},
   "source": [
    "It’s a common question that will assess your basic programming skills.\n",
    "\n",
    "Problem description: Given a string 's', find the first non-repeating character and print return it. If a non-repeating character doesn’t exist, return False.\n",
    "\n",
    "Seems easy, so let’s give it a try. Remember to lowercase the input string, as letters A and a are identical:"
   ]
  },
  {
   "cell_type": "code",
   "execution_count": 8,
   "id": "fcbcc5fc",
   "metadata": {},
   "outputs": [],
   "source": [
    "def find_nonrepeat_char(inpstring):\n",
    "    \n",
    "    #Lower case\n",
    "    inpstring = inpstring.lower()\n",
    "    \n",
    "    #Remove blank spaces in case a sentence\n",
    "    strsplit = inpstring.split()\n",
    "    \n",
    "    strjoin = ''.join(strsplit)\n",
    "    \n",
    "    \n",
    "    #Now loop through each character\n",
    "    for char in strjoin:\n",
    "        \n",
    "        if strjoin.count(char) > 1:\n",
    "                \n",
    "            continue \n",
    "            \n",
    "        elif strjoin.count(char) == 1:\n",
    "            \n",
    "            print(\"First non-repeating character is:\")\n",
    "            \n",
    "            return char\n",
    "        \n",
    "    return False"
   ]
  },
  {
   "cell_type": "code",
   "execution_count": 9,
   "id": "fddeedb0",
   "metadata": {},
   "outputs": [
    {
     "data": {
      "text/plain": [
       "False"
      ]
     },
     "execution_count": 9,
     "metadata": {},
     "output_type": "execute_result"
    }
   ],
   "source": [
    "find_nonrepeat_char('abcabc')"
   ]
  },
  {
   "cell_type": "code",
   "execution_count": 10,
   "id": "3529f96c",
   "metadata": {},
   "outputs": [
    {
     "name": "stdout",
     "output_type": "stream",
     "text": [
      "First non-repeating character is:\n"
     ]
    },
    {
     "data": {
      "text/plain": [
       "'h'"
      ]
     },
     "execution_count": 10,
     "metadata": {},
     "output_type": "execute_result"
    }
   ],
   "source": [
    "find_nonrepeat_char('Hello world')"
   ]
  },
  {
   "cell_type": "markdown",
   "id": "4295096b",
   "metadata": {},
   "source": [
    "## Question - Print odd and even numbers in a range"
   ]
  },
  {
   "cell_type": "markdown",
   "id": "211ee600",
   "metadata": {},
   "source": [
    "Using list comprehension, print the odd and even numbers to a specified range in separate lists.\n",
    "\n",
    "Adapted from: https://www.geeksforgeeks.org/python-program-to-print-all-even-numbers-in-a-range/"
   ]
  },
  {
   "cell_type": "code",
   "execution_count": 11,
   "id": "778c921d",
   "metadata": {},
   "outputs": [],
   "source": [
    "def print_odd_even(maxnum):\n",
    "    \n",
    "    odd = [x for x in range(1, maxnum+1) if (x % 2 != 0)]\n",
    "    \n",
    "    even = [x for x in range(1, maxnum+1) if (x % 2 == 0)]\n",
    "    \n",
    "    print(f\"Odd numbers from 1 to {maxnum} are: {odd} \\n\")\n",
    "    \n",
    "    print(f\"Even numbers from 1 to {maxnum} are: {even} \\n\")"
   ]
  },
  {
   "cell_type": "code",
   "execution_count": 12,
   "id": "b2dab774",
   "metadata": {},
   "outputs": [
    {
     "name": "stdout",
     "output_type": "stream",
     "text": [
      "Odd numbers from 1 to 25 are: [1, 3, 5, 7, 9, 11, 13, 15, 17, 19, 21, 23, 25] \n",
      "\n",
      "Even numbers from 1 to 25 are: [2, 4, 6, 8, 10, 12, 14, 16, 18, 20, 22, 24] \n",
      "\n"
     ]
    }
   ],
   "source": [
    "print_odd_even(25)"
   ]
  },
  {
   "cell_type": "markdown",
   "id": "58624815",
   "metadata": {},
   "source": [
    "## Question - Find words which are greater than given length k\n",
    "Input:\n",
    "* string = \"hello geeks for geeks is computer science portal\" \n",
    "        \n",
    "* minlength = 4\n",
    "\n",
    "Source: https://www.geeksforgeeks.org/find-words-greater-given-length-k/"
   ]
  },
  {
   "cell_type": "code",
   "execution_count": 13,
   "id": "7bae0bdf",
   "metadata": {},
   "outputs": [],
   "source": [
    "def find_longwords(string, minlength):\n",
    "    \n",
    "    string_split = str.split(string)\n",
    "    \n",
    "    long_words = [x for x in string_split if len(x) > minlength]\n",
    "    \n",
    "    \n",
    "    print(f' Long words are: {long_words}')"
   ]
  },
  {
   "cell_type": "code",
   "execution_count": 14,
   "id": "70daa2ce",
   "metadata": {},
   "outputs": [
    {
     "name": "stdout",
     "output_type": "stream",
     "text": [
      " Long words are: ['hello', 'geeks', 'geeks', 'computer', 'science', 'portal']\n"
     ]
    }
   ],
   "source": [
    "find_longwords(\"hello geeks for geeks is computer science portal\", 4)"
   ]
  },
  {
   "cell_type": "markdown",
   "id": "8bc2722a",
   "metadata": {},
   "source": []
  },
  {
   "cell_type": "markdown",
   "id": "b8ce41f2",
   "metadata": {},
   "source": [
    "## Question - Counting the frequencies in a list using dictionary in Python\n",
    "\n",
    "Input : [1, 1, 1, 5, 5, 3, 1, 3, 3, 1, 4, 4, 4, 2, 2, 2, 2]\n",
    "\n",
    "Source: https://www.geeksforgeeks.org/counting-the-frequencies-in-a-list-using-dictionary-in-python/"
   ]
  },
  {
   "cell_type": "code",
   "execution_count": 15,
   "id": "22ad1822",
   "metadata": {},
   "outputs": [],
   "source": [
    "input_list = [1, 1, 1, 5, 5, 3, 1, 3, 3, 1, 4, 4, 4, 2, 2, 2, 2]"
   ]
  },
  {
   "cell_type": "code",
   "execution_count": 16,
   "id": "f49ad577",
   "metadata": {},
   "outputs": [
    {
     "name": "stdout",
     "output_type": "stream",
     "text": [
      "Counter({1: 5, 2: 4, 3: 3, 4: 3, 5: 2})\n"
     ]
    }
   ],
   "source": [
    "import collections\n",
    "list_count = collections.Counter(input_list)\n",
    "print(list_count)"
   ]
  },
  {
   "cell_type": "markdown",
   "id": "645c61e1",
   "metadata": {},
   "source": [
    "Or alternatively you can use list.count"
   ]
  },
  {
   "cell_type": "code",
   "execution_count": null,
   "id": "83b9db5e",
   "metadata": {},
   "outputs": [],
   "source": []
  },
  {
   "cell_type": "markdown",
   "id": "d148f8d3",
   "metadata": {},
   "source": [
    "## Question - Function for removing every i-th character from a sentence. Also print the sentence after removing the i-th character\n",
    "\n",
    "\n",
    "Source: https://www.geeksforgeeks.org/python-program-for-removing-i-th-character-from-a-string/"
   ]
  },
  {
   "cell_type": "code",
   "execution_count": 32,
   "id": "1b9e4715",
   "metadata": {},
   "outputs": [],
   "source": [
    "def remove_every_ith(string, k):\n",
    "\n",
    "    #Combine sentence\n",
    "    joined_str = ''.join(string.split())\n",
    "\n",
    "    \n",
    "    #Print removed\n",
    "    print(\"Removed characters: \" + joined_str[k-1::k])\n",
    "    \n",
    "    \n",
    "    #Start new string as they are not mutable\n",
    "    new_str = \"\"\n",
    "    \n",
    "    \n",
    "    for i in range(0, len(joined_str)):\n",
    "\n",
    "        if(i!=0 and i%k==0):\n",
    "            \n",
    "            new_str+=\"\"\n",
    "        \n",
    "        else:\n",
    "            \n",
    "            new_str+=joined_str[i]\n",
    "\n",
    "    #Print result\n",
    "    print(\"String after replacement: \" + new_str)"
   ]
  },
  {
   "cell_type": "code",
   "execution_count": 33,
   "id": "7ab31a9a",
   "metadata": {},
   "outputs": [
    {
     "name": "stdout",
     "output_type": "stream",
     "text": [
      "Removed characters: lrhs\n",
      "String after replacement: Hellwordthsise\n"
     ]
    }
   ],
   "source": [
    "remove_every_ith(\"Hello world this is me\", 4)"
   ]
  },
  {
   "cell_type": "code",
   "execution_count": null,
   "id": "c7b1ed9b",
   "metadata": {},
   "outputs": [],
   "source": []
  },
  {
   "cell_type": "markdown",
   "id": "35e1cf59",
   "metadata": {},
   "source": [
    "## Question - Function for printing prime numbers from 1 to N"
   ]
  },
  {
   "cell_type": "code",
   "execution_count": 58,
   "id": "a5118edb",
   "metadata": {},
   "outputs": [],
   "source": [
    "def isprime(N):\n",
    "    \n",
    "    for num in range(1, N+1):\n",
    "        \n",
    "        if num>1:\n",
    "            #Prime numbers can be only greater 1\n",
    "            \n",
    "            for i in range(2, int(num+1)/2):\n",
    "                #number greater than num/2 cannot divide num\n",
    "                \n",
    "                if (num % i)==0:\n",
    "                    #If num is divisible by i, not a prime number             \n",
    "                    \n",
    "                    break\n",
    "                    \n",
    "            else:\n",
    "                \n",
    "                print(num)"
   ]
  },
  {
   "cell_type": "code",
   "execution_count": 59,
   "id": "b4c424dd",
   "metadata": {},
   "outputs": [
    {
     "name": "stdout",
     "output_type": "stream",
     "text": [
      "2\n",
      "3\n",
      "5\n",
      "7\n",
      "11\n",
      "13\n",
      "17\n",
      "19\n",
      "23\n",
      "29\n",
      "31\n",
      "37\n",
      "41\n",
      "43\n",
      "47\n",
      "53\n",
      "59\n",
      "61\n",
      "67\n",
      "71\n",
      "73\n",
      "79\n",
      "83\n"
     ]
    }
   ],
   "source": [
    "print_prime(88)"
   ]
  },
  {
   "cell_type": "code",
   "execution_count": null,
   "id": "bb7103dd",
   "metadata": {},
   "outputs": [],
   "source": []
  }
 ],
 "metadata": {
  "kernelspec": {
   "display_name": "Python 3 (ipykernel)",
   "language": "python",
   "name": "python3"
  },
  "language_info": {
   "codemirror_mode": {
    "name": "ipython",
    "version": 3
   },
   "file_extension": ".py",
   "mimetype": "text/x-python",
   "name": "python",
   "nbconvert_exporter": "python",
   "pygments_lexer": "ipython3",
   "version": "3.9.12"
  }
 },
 "nbformat": 4,
 "nbformat_minor": 5
}
