{
 "cells": [
  {
   "cell_type": "markdown",
   "id": "7c48d6df",
   "metadata": {},
   "source": [
    "## Question - Classic FizzBuzz"
   ]
  },
  {
   "cell_type": "markdown",
   "id": "22e384a2",
   "metadata": {},
   "source": [
    "Credit: https://www.w3resource.com/python-exercises/python-conditional-exercise-10.php\n",
    "\n",
    "**Write a Python program which iterates the integers from 1 to given input range, following the below conditions:**\n",
    "\n",
    "\n",
    "1) For multiples of three print \"Fizz\" instead of the number and for the multiples of five print \"Buzz\"\n",
    "\n",
    "2) For numbers which are multiples of both three and five print \"FizzBuzz\"\n",
    "\n",
    "3) Lastly, print integer numbers which do not satisfy any of the above conditions"
   ]
  },
  {
   "cell_type": "code",
   "execution_count": 3,
   "id": "33c3df87",
   "metadata": {},
   "outputs": [],
   "source": [
    "def FizzBuzz(maxnum):\n",
    "    \n",
    "    \n",
    "    for num in range(1, maxnum):\n",
    "        \n",
    "        if (num % 3 == 0) and (num % 5 == 0):\n",
    "            \n",
    "            print(\"Fizzbuzz\")\n",
    "            \n",
    "        elif num % 3 == 0:\n",
    "            \n",
    "            print(\"Fizz\")\n",
    "            \n",
    "        elif num % 5 == 0:\n",
    "            \n",
    "            print(\"Buzz\")\n",
    "            \n",
    "        else:\n",
    "            \n",
    "            print(num)"
   ]
  },
  {
   "cell_type": "code",
   "execution_count": null,
   "id": "9139aaed",
   "metadata": {},
   "outputs": [],
   "source": [
    "FizzBuzz(86)"
   ]
  },
  {
   "cell_type": "markdown",
   "id": "b0626fff",
   "metadata": {},
   "source": [
    "## Question - Finding non-repeating character in a string"
   ]
  },
  {
   "cell_type": "markdown",
   "id": "72c03627",
   "metadata": {},
   "source": [
    "Credit: https://appsilon.com/data-science-coding-interview-questions/#question-3"
   ]
  },
  {
   "cell_type": "markdown",
   "id": "f68846fb",
   "metadata": {},
   "source": [
    "It’s a common question that will assess your basic programming skills.\n",
    "\n",
    "Problem description: Given a string 's', find the first non-repeating character and print return it. If it doesn’t exist, return -1.\n",
    "\n",
    "Seems easy, so let’s give it a try. Remember to lowercase the input string, as letters A and a are identical:"
   ]
  },
  {
   "cell_type": "code",
   "execution_count": 55,
   "id": "fcbcc5fc",
   "metadata": {},
   "outputs": [],
   "source": [
    "def find_nonrepeat_char(inpstring):\n",
    "    \n",
    "    #Lower case\n",
    "    inpstring = inpstring.lower()\n",
    "    \n",
    "    #Remove blank spaces in case a sentence\n",
    "    strsplit = inpstring.split()\n",
    "    \n",
    "    strjoin = ''.join(strsplit)\n",
    "    \n",
    "    \n",
    "    #Now loop through each character\n",
    "    for char in strjoin:\n",
    "        \n",
    "        if strjoin.count(char) > 1:\n",
    "                \n",
    "            continue \n",
    "            \n",
    "        elif strjoin.count(char) == 1:\n",
    "            \n",
    "            print(\"First repeating character is:\")\n",
    "            \n",
    "            return char\n",
    "        \n",
    "    return False"
   ]
  },
  {
   "cell_type": "code",
   "execution_count": 56,
   "id": "fddeedb0",
   "metadata": {},
   "outputs": [
    {
     "data": {
      "text/plain": [
       "False"
      ]
     },
     "execution_count": 56,
     "metadata": {},
     "output_type": "execute_result"
    }
   ],
   "source": [
    "find_nonrepeat_char('abcabc')"
   ]
  },
  {
   "cell_type": "markdown",
   "id": "33ba8d96",
   "metadata": {},
   "source": [
    "## Print odd and even numbers in a range"
   ]
  },
  {
   "cell_type": "markdown",
   "id": "9a177248",
   "metadata": {},
   "source": [
    "Using list comprehension, print the odd and even numbers to a specified range in separate lists."
   ]
  },
  {
   "cell_type": "code",
   "execution_count": 3,
   "id": "659a5509",
   "metadata": {},
   "outputs": [],
   "source": [
    "def print_odd_even(maxnum):\n",
    "    \n",
    "    odd = [x for x in range(maxnum+1) if (x % 2 != 0)]\n",
    "    \n",
    "    even = [x for x in range(maxnum+1) if (x % 2 == 0)]\n",
    "    \n",
    "    print(f\"Odd numbers from 1 to {maxnum} are: {odd} \\n\")\n",
    "    \n",
    "    print(f\"Odd numbers from 1 to {maxnum} are: {odd} \\n\")\n",
    "\n",
    "    "
   ]
  },
  {
   "cell_type": "code",
   "execution_count": 4,
   "id": "eefd7632",
   "metadata": {},
   "outputs": [
    {
     "name": "stdout",
     "output_type": "stream",
     "text": [
      "Odd numbers from 1 to 25 are: [1, 3, 5, 7, 9, 11, 13, 15, 17, 19, 21, 23, 25]\n"
     ]
    }
   ],
   "source": [
    "print_odd_even(25)"
   ]
  },
  {
   "cell_type": "code",
   "execution_count": null,
   "id": "df9d9c53",
   "metadata": {},
   "outputs": [],
   "source": []
  }
 ],
 "metadata": {
  "kernelspec": {
   "display_name": "Python 3 (ipykernel)",
   "language": "python",
   "name": "python3"
  },
  "language_info": {
   "codemirror_mode": {
    "name": "ipython",
    "version": 3
   },
   "file_extension": ".py",
   "mimetype": "text/x-python",
   "name": "python",
   "nbconvert_exporter": "python",
   "pygments_lexer": "ipython3",
   "version": "3.9.12"
  }
 },
 "nbformat": 4,
 "nbformat_minor": 5
}
