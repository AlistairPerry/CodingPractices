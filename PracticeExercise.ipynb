{
 "cells": [
  {
   "cell_type": "markdown",
   "id": "b0626fff",
   "metadata": {},
   "source": [
    "## Question - Reversing a string"
   ]
  },
  {
   "cell_type": "markdown",
   "id": "72c03627",
   "metadata": {},
   "source": [
    "Credit: https://appsilon.com/data-science-coding-interview-questions/#question-3"
   ]
  },
  {
   "cell_type": "markdown",
   "id": "f68846fb",
   "metadata": {},
   "source": [
    "It’s a common question that will assess your basic programming skills.\n",
    "\n",
    "Problem description: Given a string 's', find the first non-repeating character and print return it. If it doesn’t exist, return -1.\n",
    "\n",
    "Seems easy, so let’s give it a try. Remember to lowercase the input string, as letters A and a are identical:"
   ]
  },
  {
   "cell_type": "code",
   "execution_count": 3,
   "id": "9fa22873",
   "metadata": {},
   "outputs": [],
   "source": [
    "inpstring = 'A brief history of human kind'.lower()"
   ]
  },
  {
   "cell_type": "code",
   "execution_count": 4,
   "id": "915e915a",
   "metadata": {},
   "outputs": [
    {
     "data": {
      "text/plain": [
       "'a brief history of human kind'"
      ]
     },
     "execution_count": 4,
     "metadata": {},
     "output_type": "execute_result"
    }
   ],
   "source": [
    "inpstring"
   ]
  },
  {
   "cell_type": "code",
   "execution_count": 7,
   "id": "f32fde0a",
   "metadata": {},
   "outputs": [
    {
     "data": {
      "text/plain": [
       "''"
      ]
     },
     "execution_count": 7,
     "metadata": {},
     "output_type": "execute_result"
    }
   ],
   "source": [
    "inpstring.join('')"
   ]
  },
  {
   "cell_type": "code",
   "execution_count": 8,
   "id": "b88f4220",
   "metadata": {},
   "outputs": [
    {
     "data": {
      "text/plain": [
       "'a brief history of human kind'"
      ]
     },
     "execution_count": 8,
     "metadata": {},
     "output_type": "execute_result"
    }
   ],
   "source": [
    "inpstring"
   ]
  },
  {
   "cell_type": "code",
   "execution_count": 9,
   "id": "4511a0ce",
   "metadata": {},
   "outputs": [],
   "source": [
    "splitstr = inpstring.split()"
   ]
  },
  {
   "cell_type": "code",
   "execution_count": 10,
   "id": "9b25370f",
   "metadata": {},
   "outputs": [
    {
     "data": {
      "text/plain": [
       "['a', 'brief', 'history', 'of', 'human', 'kind']"
      ]
     },
     "execution_count": 10,
     "metadata": {},
     "output_type": "execute_result"
    }
   ],
   "source": [
    "splitstr"
   ]
  },
  {
   "cell_type": "code",
   "execution_count": 11,
   "id": "84d4daeb",
   "metadata": {},
   "outputs": [
    {
     "ename": "TypeError",
     "evalue": "descriptor 'join' for 'str' objects doesn't apply to a 'list' object",
     "output_type": "error",
     "traceback": [
      "\u001b[0;31m---------------------------------------------------------------------------\u001b[0m",
      "\u001b[0;31mTypeError\u001b[0m                                 Traceback (most recent call last)",
      "Input \u001b[0;32mIn [11]\u001b[0m, in \u001b[0;36m<cell line: 1>\u001b[0;34m()\u001b[0m\n\u001b[0;32m----> 1\u001b[0m \u001b[38;5;28;43mstr\u001b[39;49m\u001b[38;5;241;43m.\u001b[39;49m\u001b[43mjoin\u001b[49m\u001b[43m(\u001b[49m\u001b[43msplitstr\u001b[49m\u001b[43m)\u001b[49m\n",
      "\u001b[0;31mTypeError\u001b[0m: descriptor 'join' for 'str' objects doesn't apply to a 'list' object"
     ]
    }
   ],
   "source": [
    "str.join(splitstr)"
   ]
  },
  {
   "cell_type": "code",
   "execution_count": 12,
   "id": "28ba7fe7",
   "metadata": {},
   "outputs": [],
   "source": [
    "combstr = ''.join(splitstr)"
   ]
  },
  {
   "cell_type": "code",
   "execution_count": 13,
   "id": "ad57434f",
   "metadata": {},
   "outputs": [
    {
     "data": {
      "text/plain": [
       "'abriefhistoryofhumankind'"
      ]
     },
     "execution_count": 13,
     "metadata": {},
     "output_type": "execute_result"
    }
   ],
   "source": [
    "combstr"
   ]
  },
  {
   "cell_type": "code",
   "execution_count": 15,
   "id": "07fa2f4e",
   "metadata": {},
   "outputs": [
    {
     "data": {
      "text/plain": [
       "2"
      ]
     },
     "execution_count": 15,
     "metadata": {},
     "output_type": "execute_result"
    }
   ],
   "source": [
    "combstr.count('a')"
   ]
  },
  {
   "cell_type": "code",
   "execution_count": 55,
   "id": "fcbcc5fc",
   "metadata": {},
   "outputs": [],
   "source": [
    "def find_nonrepeat_char(inpstring):\n",
    "    \n",
    "    #Lower case\n",
    "    inpstring = inpstring.lower()\n",
    "    \n",
    "    #Remove blank spaces in case a sentence\n",
    "    strsplit = inpstring.split()\n",
    "    \n",
    "    strjoin = ''.join(strsplit)\n",
    "    \n",
    "    \n",
    "    #Now loop through each character\n",
    "    for char in strjoin:\n",
    "        \n",
    "        if strjoin.count(char) > 1:\n",
    "                \n",
    "            continue \n",
    "            \n",
    "        elif strjoin.count(char) == 1:\n",
    "            \n",
    "            print(\"First repeating character is:\")\n",
    "            \n",
    "            return char\n",
    "        \n",
    "    return False"
   ]
  },
  {
   "cell_type": "code",
   "execution_count": 56,
   "id": "fddeedb0",
   "metadata": {},
   "outputs": [
    {
     "data": {
      "text/plain": [
       "False"
      ]
     },
     "execution_count": 56,
     "metadata": {},
     "output_type": "execute_result"
    }
   ],
   "source": [
    "find_nonrepeat_char('abcabc')"
   ]
  },
  {
   "cell_type": "code",
   "execution_count": null,
   "id": "4d2e24b6",
   "metadata": {},
   "outputs": [],
   "source": []
  }
 ],
 "metadata": {
  "kernelspec": {
   "display_name": "Python 3 (ipykernel)",
   "language": "python",
   "name": "python3"
  },
  "language_info": {
   "codemirror_mode": {
    "name": "ipython",
    "version": 3
   },
   "file_extension": ".py",
   "mimetype": "text/x-python",
   "name": "python",
   "nbconvert_exporter": "python",
   "pygments_lexer": "ipython3",
   "version": "3.9.12"
  }
 },
 "nbformat": 4,
 "nbformat_minor": 5
}
