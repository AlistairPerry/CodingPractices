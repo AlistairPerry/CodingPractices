{
 "cells": [
  {
   "cell_type": "markdown",
   "id": "7233193c",
   "metadata": {},
   "source": [
    "# Udemy Capstone Tests"
   ]
  },
  {
   "cell_type": "markdown",
   "id": "0e7e0950",
   "metadata": {},
   "source": [
    "## Q1) Count Vowels\n",
    "\n",
    "Enter a string and the program counts the number of vowels in the text. For added complexity have it report a sum of each vowel found."
   ]
  },
  {
   "cell_type": "code",
   "execution_count": 19,
   "id": "48722ea4",
   "metadata": {},
   "outputs": [],
   "source": [
    "def count_vowels(string):\n",
    "    \n",
    "    from collections import Counter\n",
    "    \n",
    "    vowels = ['a', 'e', 'i', 'o', 'u']\n",
    "    \n",
    "    \n",
    "    count = 0\n",
    "    match = []\n",
    "    \n",
    "    for char in string:\n",
    "        \n",
    "        if char in vowels:\n",
    "            \n",
    "            count += 1\n",
    "\n",
    "            match.append(char)\n",
    "            \n",
    "        else:\n",
    "            \n",
    "            pass\n",
    "    \n",
    "    print(f'number of vowels are {count}')\n",
    "    \n",
    "    print(\"Number of each vowels are:\\n\")\n",
    "    \n",
    "    \n",
    "    print(Counter(match))"
   ]
  },
  {
   "cell_type": "code",
   "execution_count": 20,
   "id": "064bee52",
   "metadata": {},
   "outputs": [
    {
     "name": "stdout",
     "output_type": "stream",
     "text": [
      "number of vowels are 6\n",
      "Number of each vowels are:\n",
      "\n",
      "Counter({'e': 2, 'o': 2, 'i': 2})\n"
     ]
    }
   ],
   "source": [
    "count_vowels(\"Hello world this is me\")"
   ]
  },
  {
   "cell_type": "code",
   "execution_count": null,
   "id": "061844d9",
   "metadata": {},
   "outputs": [],
   "source": []
  },
  {
   "cell_type": "markdown",
   "id": "4fd040df",
   "metadata": {},
   "source": [
    "## Q2) Fibonacci Sequence \n",
    "\n",
    "Enter a number and have the program generate the Fibonacci sequence to that number or to the Nth"
   ]
  },
  {
   "cell_type": "code",
   "execution_count": 67,
   "id": "58082df4",
   "metadata": {},
   "outputs": [],
   "source": [
    "def fib_seq(N):\n",
    "        \n",
    "    out_seq = [0, 1]\n",
    "    \n",
    "    full_seq = list(range(N+1))\n",
    "    \n",
    "    \n",
    "    for idx, num in enumerate(full_seq):\n",
    "    \n",
    "        if idx>1:\n",
    "            \n",
    "            new_val = sum([out_seq[idx-1], out_seq[idx-2]])\n",
    "            \n",
    "            out_seq.append(new_val)\n",
    "            \n",
    "    \n",
    "    print(f'Fibonacci to {N} is:', out_seq, sep=\"\\n\")"
   ]
  },
  {
   "cell_type": "code",
   "execution_count": 68,
   "id": "f7f944c3",
   "metadata": {},
   "outputs": [
    {
     "name": "stdout",
     "output_type": "stream",
     "text": [
      "Fibonacci to 92 is:\n",
      "[0, 1, 1, 2, 3, 5, 8, 13, 21, 34, 55, 89, 144, 233, 377, 610, 987, 1597, 2584, 4181, 6765, 10946, 17711, 28657, 46368, 75025, 121393, 196418, 317811, 514229, 832040, 1346269, 2178309, 3524578, 5702887, 9227465, 14930352, 24157817, 39088169, 63245986, 102334155, 165580141, 267914296, 433494437, 701408733, 1134903170, 1836311903, 2971215073, 4807526976, 7778742049, 12586269025, 20365011074, 32951280099, 53316291173, 86267571272, 139583862445, 225851433717, 365435296162, 591286729879, 956722026041, 1548008755920, 2504730781961, 4052739537881, 6557470319842, 10610209857723, 17167680177565, 27777890035288, 44945570212853, 72723460248141, 117669030460994, 190392490709135, 308061521170129, 498454011879264, 806515533049393, 1304969544928657, 2111485077978050, 3416454622906707, 5527939700884757, 8944394323791464, 14472334024676221, 23416728348467685, 37889062373143906, 61305790721611591, 99194853094755497, 160500643816367088, 259695496911122585, 420196140727489673, 679891637638612258, 1100087778366101931, 1779979416004714189, 2880067194370816120, 4660046610375530309, 7540113804746346429]\n"
     ]
    }
   ],
   "source": [
    "fib_seq(92)"
   ]
  },
  {
   "cell_type": "code",
   "execution_count": null,
   "id": "d91d96e6",
   "metadata": {},
   "outputs": [],
   "source": []
  }
 ],
 "metadata": {
  "kernelspec": {
   "display_name": "Python 3 (ipykernel)",
   "language": "python",
   "name": "python3"
  },
  "language_info": {
   "codemirror_mode": {
    "name": "ipython",
    "version": 3
   },
   "file_extension": ".py",
   "mimetype": "text/x-python",
   "name": "python",
   "nbconvert_exporter": "python",
   "pygments_lexer": "ipython3",
   "version": "3.9.12"
  }
 },
 "nbformat": 4,
 "nbformat_minor": 5
}
