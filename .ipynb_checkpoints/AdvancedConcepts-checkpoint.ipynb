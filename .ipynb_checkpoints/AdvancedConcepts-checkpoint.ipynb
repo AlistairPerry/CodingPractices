{
 "cells": [
  {
   "cell_type": "markdown",
   "id": "04a6f7d6",
   "metadata": {},
   "source": [
    "# Advanced Concept Questions"
   ]
  },
  {
   "cell_type": "markdown",
   "id": "2d7c7abe",
   "metadata": {},
   "source": [
    "## (1) Lambda expressions"
   ]
  },
  {
   "cell_type": "markdown",
   "id": "01ef79c3",
   "metadata": {},
   "source": [
    "### Question 1.1) This time use the sorted() function to sort the list in ascending order with lambda.\n",
    "\n",
    "Credit: https://holypython.com/intermediate-python-exercises/exercise-11-python-lambda/"
   ]
  },
  {
   "cell_type": "code",
   "execution_count": 10,
   "id": "c035f433",
   "metadata": {},
   "outputs": [
    {
     "name": "stdout",
     "output_type": "stream",
     "text": [
      "[1, 9, 10, 99, 100, 999, 10000]\n"
     ]
    }
   ],
   "source": [
    "lst=[100, 10, 10000, 1, 9, 999, 99]\n",
    "\n",
    "lst=sorted(lst, key=lambda x: x)\n",
    "\n",
    "print(lst)"
   ]
  },
  {
   "cell_type": "markdown",
   "id": "fc1aadf6",
   "metadata": {},
   "source": []
  },
  {
   "cell_type": "markdown",
   "id": "ab6102b4",
   "metadata": {},
   "source": [
    "### Question 1.2) Write a Python program to square every number in a given list of integers using Lambda\n",
    "\n",
    "Credit: https://www.w3resource.com/python-exercises/lambda/index.php (Q6)"
   ]
  },
  {
   "cell_type": "code",
   "execution_count": 8,
   "id": "82993af2",
   "metadata": {},
   "outputs": [
    {
     "name": "stdout",
     "output_type": "stream",
     "text": [
      "[1, 4, 9, 16, 25, 36, 49, 64, 81, 100]\n"
     ]
    }
   ],
   "source": [
    "values = [1, 2, 3, 4, 5, 6, 7, 8, 9, 10]\n",
    "\n",
    "r = map(lambda x: x**2, values)\n",
    "\n",
    "print(list(r))"
   ]
  },
  {
   "cell_type": "markdown",
   "id": "12cd477e",
   "metadata": {},
   "source": []
  },
  {
   "cell_type": "markdown",
   "id": "346e52d4",
   "metadata": {},
   "source": [
    "### Question 1.3)  Write a Python program to filter odd and even numbers from list of integers using Lambda.\n",
    "\n",
    "Credit: https://www.w3resource.com/python-exercises/lambda/index.php (Q5)"
   ]
  },
  {
   "cell_type": "code",
   "execution_count": 19,
   "id": "d08575e1",
   "metadata": {},
   "outputs": [
    {
     "name": "stdout",
     "output_type": "stream",
     "text": [
      "Odds are: [1, 3, 5, 7, 9]\n",
      "Evens are: [2, 4, 6, 8, 10]\n"
     ]
    }
   ],
   "source": [
    "orig_list = [1, 2, 3, 4, 5, 6, 7, 8, 9, 10]\n",
    "\n",
    "odds = filter(lambda x: x%2!=0, orig_list)\n",
    "\n",
    "evens = filter(lambda x: x%2==0, orig_list)\n",
    "\n",
    "print(f'Odds are: {list(odds)}', f'Evens are: {list(evens)}', sep=\"\\n\")"
   ]
  },
  {
   "cell_type": "code",
   "execution_count": null,
   "id": "48a7a2a6",
   "metadata": {},
   "outputs": [],
   "source": []
  },
  {
   "cell_type": "markdown",
   "id": "7ceb7b10",
   "metadata": {},
   "source": [
    "###  Question 1.4) Write a Python program to find palindromes in a given list of strings using Lambda. \n",
    "\n",
    "Credit: https://www.w3resource.com/python-exercises/lambda/index.php (Q18)"
   ]
  },
  {
   "cell_type": "code",
   "execution_count": 22,
   "id": "bc0d0d8e",
   "metadata": {},
   "outputs": [
    {
     "name": "stdout",
     "output_type": "stream",
     "text": [
      "['php', 'aaa']\n"
     ]
    }
   ],
   "source": [
    "orig_list = ['php', 'w3r', 'Python', 'abcd', 'Java', 'aaa']\n",
    "\n",
    "p_dromes = filter(lambda x: x==x[::-1], orig_list)\n",
    "\n",
    "print(list(p_dromes))"
   ]
  },
  {
   "cell_type": "code",
   "execution_count": null,
   "id": "7e0daa72",
   "metadata": {},
   "outputs": [],
   "source": []
  },
  {
   "cell_type": "markdown",
   "id": "81c4f4b4",
   "metadata": {},
   "source": [
    "### Question 1.5) Using sorted() function, reverse parameter and lambda sort the tuples in the list based on the last character of the second items in reverse order.\n",
    "\n",
    "Credit: https://holypython.com/intermediate-python-exercises/exercise-11-python-lambda/ (exercise i)"
   ]
  },
  {
   "cell_type": "code",
   "execution_count": 26,
   "id": "4caf8706",
   "metadata": {},
   "outputs": [
    {
     "name": "stdout",
     "output_type": "stream",
     "text": [
      "[(626299, 'Vermont'), (19542209, 'New York'), (1420491, 'Hawaii'), (4887871, 'Alabama'), (1805832, 'West Virginia'), (39865590, 'California')]\n"
     ]
    }
   ],
   "source": [
    "lst=[(19542209, \"New York\") ,(4887871, \"Alabama\"), (1420491, \"Hawaii\"), (626299, \"Vermont\"), \n",
    "     (1805832, \"West Virginia\"), (39865590, \"California\")]\n",
    "\n",
    "\n",
    "lst_sort = sorted(lst, key=lambda x: x[1][-1], reverse=True)\n",
    "\n",
    "print(lst_sort)"
   ]
  },
  {
   "cell_type": "code",
   "execution_count": null,
   "id": "786bdc5c",
   "metadata": {},
   "outputs": [],
   "source": []
  },
  {
   "cell_type": "markdown",
   "id": "01e46301",
   "metadata": {},
   "source": [
    "### Question 1.6) sort list of dictionaries by name values in Python – Using lambda function\n",
    "\n",
    "Credit: https://www.geeksforgeeks.org/ways-sort-list-dictionaries-values-python-using-lambda-function/"
   ]
  },
  {
   "cell_type": "code",
   "execution_count": 45,
   "id": "3f0924fe",
   "metadata": {},
   "outputs": [
    {
     "name": "stdout",
     "output_type": "stream",
     "text": [
      "Dictionary sorted by name in ascending order:\n",
      "\n",
      " [{'name': 'Manjeet', 'age': 20}, {'name': 'Nandini', 'age': 20}, {'name': 'Nikhil', 'age': 19}]\n"
     ]
    }
   ],
   "source": [
    "# Initializing list of dictionaries\n",
    "\n",
    "list = [{\"name\": \"Nandini\", \"age\": 20},\n",
    "       {\"name\": \"Manjeet\", \"age\": 20},\n",
    "       {\"name\": \"Nikhil\", \"age\": 19}]\n",
    "\n",
    "list_sort = sorted(list, key=lambda x: x['name'])\n",
    "\n",
    "print(\"Dictionary sorted by name in ascending order:\\n\\n\", list_sort)"
   ]
  },
  {
   "cell_type": "code",
   "execution_count": null,
   "id": "87ad383c",
   "metadata": {},
   "outputs": [],
   "source": []
  }
 ],
 "metadata": {
  "kernelspec": {
   "display_name": "Python 3 (ipykernel)",
   "language": "python",
   "name": "python3"
  },
  "language_info": {
   "codemirror_mode": {
    "name": "ipython",
    "version": 3
   },
   "file_extension": ".py",
   "mimetype": "text/x-python",
   "name": "python",
   "nbconvert_exporter": "python",
   "pygments_lexer": "ipython3",
   "version": "3.9.12"
  }
 },
 "nbformat": 4,
 "nbformat_minor": 5
}
