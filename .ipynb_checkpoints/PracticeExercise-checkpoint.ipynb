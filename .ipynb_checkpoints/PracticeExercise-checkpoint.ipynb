{
 "cells": [
  {
   "cell_type": "markdown",
   "id": "03c79072",
   "metadata": {},
   "source": [
    "## Question - Reversing a string"
   ]
  },
  {
   "cell_type": "markdown",
   "id": "905ef22e",
   "metadata": {},
   "source": [
    "Credit: https://appsilon.com/data-science-coding-interview-questions/#question-3"
   ]
  },
  {
   "cell_type": "markdown",
   "id": "ee2c9649",
   "metadata": {},
   "source": [
    "It’s a common question that will assess your basic programming skills.\n",
    "\n",
    "Problem description: Given a string 's', find the first non-repeating character and print return it. If it doesn’t exist, return -1.\n",
    "\n",
    "Seems easy, so let’s give it a try. Remember to lowercase the input string, as letters A and a are identical:"
   ]
  },
  {
   "cell_type": "code",
   "execution_count": 3,
   "id": "24d6754a",
   "metadata": {},
   "outputs": [],
   "source": [
    "inpstring = 'A brief history of human kind'.lower()"
   ]
  },
  {
   "cell_type": "code",
   "execution_count": 4,
   "id": "53288a81",
   "metadata": {},
   "outputs": [
    {
     "data": {
      "text/plain": [
       "'a brief history of human kind'"
      ]
     },
     "execution_count": 4,
     "metadata": {},
     "output_type": "execute_result"
    }
   ],
   "source": [
    "inpstring"
   ]
  },
  {
   "cell_type": "code",
   "execution_count": 7,
   "id": "6fac6818",
   "metadata": {},
   "outputs": [
    {
     "data": {
      "text/plain": [
       "''"
      ]
     },
     "execution_count": 7,
     "metadata": {},
     "output_type": "execute_result"
    }
   ],
   "source": [
    "inpstring.join('')"
   ]
  },
  {
   "cell_type": "code",
   "execution_count": 8,
   "id": "35d4b8e6",
   "metadata": {},
   "outputs": [
    {
     "data": {
      "text/plain": [
       "'a brief history of human kind'"
      ]
     },
     "execution_count": 8,
     "metadata": {},
     "output_type": "execute_result"
    }
   ],
   "source": [
    "inpstring"
   ]
  },
  {
   "cell_type": "code",
   "execution_count": 9,
   "id": "b4c482aa",
   "metadata": {},
   "outputs": [],
   "source": [
    "splitstr = inpstring.split()"
   ]
  },
  {
   "cell_type": "code",
   "execution_count": 10,
   "id": "8702aaaa",
   "metadata": {},
   "outputs": [
    {
     "data": {
      "text/plain": [
       "['a', 'brief', 'history', 'of', 'human', 'kind']"
      ]
     },
     "execution_count": 10,
     "metadata": {},
     "output_type": "execute_result"
    }
   ],
   "source": [
    "splitstr"
   ]
  },
  {
   "cell_type": "code",
   "execution_count": 11,
   "id": "f87c53ec",
   "metadata": {},
   "outputs": [
    {
     "ename": "TypeError",
     "evalue": "descriptor 'join' for 'str' objects doesn't apply to a 'list' object",
     "output_type": "error",
     "traceback": [
      "\u001b[0;31m---------------------------------------------------------------------------\u001b[0m",
      "\u001b[0;31mTypeError\u001b[0m                                 Traceback (most recent call last)",
      "Input \u001b[0;32mIn [11]\u001b[0m, in \u001b[0;36m<cell line: 1>\u001b[0;34m()\u001b[0m\n\u001b[0;32m----> 1\u001b[0m \u001b[38;5;28;43mstr\u001b[39;49m\u001b[38;5;241;43m.\u001b[39;49m\u001b[43mjoin\u001b[49m\u001b[43m(\u001b[49m\u001b[43msplitstr\u001b[49m\u001b[43m)\u001b[49m\n",
      "\u001b[0;31mTypeError\u001b[0m: descriptor 'join' for 'str' objects doesn't apply to a 'list' object"
     ]
    }
   ],
   "source": [
    "str.join(splitstr)"
   ]
  },
  {
   "cell_type": "code",
   "execution_count": 12,
   "id": "dcc593a9",
   "metadata": {},
   "outputs": [],
   "source": [
    "combstr = ''.join(splitstr)"
   ]
  },
  {
   "cell_type": "code",
   "execution_count": 13,
   "id": "3587d351",
   "metadata": {},
   "outputs": [
    {
     "data": {
      "text/plain": [
       "'abriefhistoryofhumankind'"
      ]
     },
     "execution_count": 13,
     "metadata": {},
     "output_type": "execute_result"
    }
   ],
   "source": [
    "combstr"
   ]
  },
  {
   "cell_type": "code",
   "execution_count": 15,
   "id": "d57ed6aa",
   "metadata": {},
   "outputs": [
    {
     "data": {
      "text/plain": [
       "2"
      ]
     },
     "execution_count": 15,
     "metadata": {},
     "output_type": "execute_result"
    }
   ],
   "source": [
    "combstr.count('a')"
   ]
  },
  {
   "cell_type": "code",
   "execution_count": 46,
   "id": "eba85c67",
   "metadata": {},
   "outputs": [],
   "source": [
    "def find_nonrepeat_char(inpstring):\n",
    "    \n",
    "    #Lower case\n",
    "    inpstring = inpstring.lower()\n",
    "    \n",
    "    #Remove blank spaces in case a sentence\n",
    "    strsplit = inpstring.split()\n",
    "    \n",
    "    strjoin = ''.join(strsplit)\n",
    "    \n",
    "    \n",
    "    #Now loop through each character\n",
    "    for char in strjoin:\n",
    "        \n",
    "        if strjoin.count(char) > 1:\n",
    "                \n",
    "            continue \n",
    "            \n",
    "        elif strjoin.count(char) == 1:\n",
    "                \n",
    "            print(\"\\n First non-repeating character in string is:\", char)\n",
    "                \n",
    "            break\n",
    "            \n",
    "    print(\"Didn't find\")"
   ]
  },
  {
   "cell_type": "code",
   "execution_count": 48,
   "id": "63309d77",
   "metadata": {},
   "outputs": [
    {
     "name": "stdout",
     "output_type": "stream",
     "text": [
      "\n",
      " First non-repeating character in string is : b\n",
      "Didn't find\n"
     ]
    }
   ],
   "source": [
    "find_nonrepeat_char('A brief history of human kind')"
   ]
  },
  {
   "cell_type": "code",
   "execution_count": null,
   "id": "1ad7509f",
   "metadata": {},
   "outputs": [],
   "source": []
  }
 ],
 "metadata": {
  "kernelspec": {
   "display_name": "Python 3 (ipykernel)",
   "language": "python",
   "name": "python3"
  },
  "language_info": {
   "codemirror_mode": {
    "name": "ipython",
    "version": 3
   },
   "file_extension": ".py",
   "mimetype": "text/x-python",
   "name": "python",
   "nbconvert_exporter": "python",
   "pygments_lexer": "ipython3",
   "version": "3.9.12"
  }
 },
 "nbformat": 4,
 "nbformat_minor": 5
}
