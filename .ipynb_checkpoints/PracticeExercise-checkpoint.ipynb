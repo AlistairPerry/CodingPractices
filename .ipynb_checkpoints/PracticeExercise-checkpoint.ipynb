{
 "cells": [
  {
   "cell_type": "markdown",
   "id": "b0626fff",
   "metadata": {},
   "source": [
    "## Question - Reversing a string"
   ]
  },
  {
   "cell_type": "markdown",
   "id": "72c03627",
   "metadata": {},
   "source": [
    "Credit: https://appsilon.com/data-science-coding-interview-questions/#question-3"
   ]
  },
  {
   "cell_type": "markdown",
   "id": "f68846fb",
   "metadata": {},
   "source": [
    "It’s a common question that will assess your basic programming skills.\n",
    "\n",
    "Problem description: Given a string 's', find the first non-repeating character and print return it. If it doesn’t exist, return -1.\n",
    "\n",
    "Seems easy, so let’s give it a try. Remember to lowercase the input string, as letters A and a are identical:"
   ]
  },
  {
   "cell_type": "code",
   "execution_count": 55,
   "id": "fcbcc5fc",
   "metadata": {},
   "outputs": [],
   "source": [
    "def find_nonrepeat_char(inpstring):\n",
    "    \n",
    "    #Lower case\n",
    "    inpstring = inpstring.lower()\n",
    "    \n",
    "    #Remove blank spaces in case a sentence\n",
    "    strsplit = inpstring.split()\n",
    "    \n",
    "    strjoin = ''.join(strsplit)\n",
    "    \n",
    "    \n",
    "    #Now loop through each character\n",
    "    for char in strjoin:\n",
    "        \n",
    "        if strjoin.count(char) > 1:\n",
    "                \n",
    "            continue \n",
    "            \n",
    "        elif strjoin.count(char) == 1:\n",
    "            \n",
    "            print(\"First repeating character is:\")\n",
    "            \n",
    "            return char\n",
    "        \n",
    "    return False"
   ]
  },
  {
   "cell_type": "code",
   "execution_count": 56,
   "id": "fddeedb0",
   "metadata": {},
   "outputs": [
    {
     "data": {
      "text/plain": [
       "False"
      ]
     },
     "execution_count": 56,
     "metadata": {},
     "output_type": "execute_result"
    }
   ],
   "source": [
    "find_nonrepeat_char('abcabc')"
   ]
  },
  {
   "cell_type": "code",
   "execution_count": null,
   "id": "4d2e24b6",
   "metadata": {},
   "outputs": [],
   "source": []
  }
 ],
 "metadata": {
  "kernelspec": {
   "display_name": "Python 3 (ipykernel)",
   "language": "python",
   "name": "python3"
  },
  "language_info": {
   "codemirror_mode": {
    "name": "ipython",
    "version": 3
   },
   "file_extension": ".py",
   "mimetype": "text/x-python",
   "name": "python",
   "nbconvert_exporter": "python",
   "pygments_lexer": "ipython3",
   "version": "3.9.12"
  }
 },
 "nbformat": 4,
 "nbformat_minor": 5
}
